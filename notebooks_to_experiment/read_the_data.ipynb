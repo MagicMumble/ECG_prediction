{
 "cells": [
  {
   "cell_type": "code",
   "execution_count": null,
   "id": "496f54cf-c1aa-412e-aa66-b0a198dd9cb0",
   "metadata": {},
   "outputs": [],
   "source": [
    "import pandas as pd\n",
    "from io import StringIO\n",
    "import sklearn\n",
    "import re\n",
    "from sklearn.preprocessing import MinMaxScaler\n",
    "import numpy as np\n",
    "import xml.etree.ElementTree as ET\n",
    "import os\n",
    "import ecg_plot"
   ]
  },
  {
   "cell_type": "code",
   "execution_count": null,
   "id": "ebc1d93d-73da-4a64-bb68-abd1a5b89261",
   "metadata": {},
   "outputs": [],
   "source": [
    "filepath = '/groups/umcg-endocrinology/tmp02/projects/ukb-55495/data/metaData/v5/xml_T3/4399948_20205_3_0.xml'\n",
    "tags = ['ObservationType', 'DICOMStudyUID', 'ReasonForStudy']\n",
    "filepath2 = '/groups/umcg-endocrinology/tmp02/projects/ukb-55495/data/metaData/v5/xml_T3/3020947_20205_3_0.xml'\n",
    "\n",
    "# df = pd.read_xml(filepath, xpath = '//root/{}'.format('/'.join(tags)))"
   ]
  },
  {
   "cell_type": "code",
   "execution_count": null,
   "id": "d43297ad-fa5d-4bfa-b86b-6d67e5ae7140",
   "metadata": {},
   "outputs": [],
   "source": [
    "def getLabel():\n",
    "    df = pd.read_xml(filepath, xpath = '//CardiologyXML/StripData/ArrhythmiaResults')\n",
    "    label = df['BeatClass'].values[0]"
   ]
  },
  {
   "cell_type": "code",
   "execution_count": null,
   "id": "0f28da04-424e-497f-9583-866f08851afa",
   "metadata": {},
   "outputs": [],
   "source": [
    "# df = pd.read_xml(filepath, xpath = '//CardiologyXML/ObservationDateTime')\n",
    "# ObservationDateTime\n",
    "# df = pd.read_xml(filepath, xpath = '//CardiologyXML/PatientVisit')\n",
    "# df = pd.read_xml(filepath, xpath = '//CardiologyXML/PatientInfo')\n",
    "# df = pd.read_xml(filepath, xpath = '//CardiologyXML/PatientInfo/BirthDateTime')\n",
    "# df = pd.read_xml(filepath, xpath = '//MeasurementTable')\n",
    "# df = pd.read_xml(filepath, xpath = '//RestingECGMeasurements')\n",
    "# df = pd.read_xml(filepath, xpath = '//RestingECGMeasurements/MeasurementTable')\n",
    "# df = pd.read_xml(filepath, xpath = '//CardiologyXML/RestingECGMeasurements/MeasurementTable/QDuration')  # to see measurements unit\n",
    "\n",
    "# results! get labels from this data\n",
    "# df = pd.read_xml(filepath, xpath = '//CardiologyXML/StripData/ArrhythmiaResults')\n",
    "# df = pd.read_xml(filepath, xpath = '//ArrhythmiaResults')\n",
    "# df = pd.read_xml(filepath, xpath = '//Diagnosis')\n",
    "# df = pd.read_xml(filepath, xpath = '//Conclusion')\n",
    "# resolution - one sample increment meets to this number of microVolts\n",
    "\n",
    "\n",
    "# df = pd.read_xml(filepath, xpath = '//CardiologyXML/Interpretation/Conclusion') # not full description returns only last child\n",
    "# df = pd.read_xml(filepath, xpath = '//CardiologyXML/StripData/WaveformData')\n",
    "# df = pd.read_xml(filepath, xpath = '//CardiologyXML/StripData')\n",
    "\n",
    "# different from CardiologyXML/StripData/WaveformData!!!\n",
    "# df = pd.read_xml(filepath, xpath = '//CardiologyXML/RestingECGMeasurements/MedianSamples')\n",
    "# df = pd.read_xml(filepath, xpath = '//CardiologyXML/RestingECGMeasurements/MedianSamples/WaveformData')\n",
    "\n",
    "\n",
    "df = pd.read_xml(filepath, xpath = '//FullDisclosure')\n",
    "df\n"
   ]
  },
  {
   "cell_type": "code",
   "execution_count": null,
   "id": "c94b99f9-a010-4081-8b74-08c3913906c5",
   "metadata": {},
   "outputs": [],
   "source": [
    "# fulldisclosure data looks wrong (not ecg)\n",
    "\n",
    "df = pd.read_xml(filepath, xpath = '//FullDisclosure')\n",
    "waves = df['FullDisclosureData'][0]\n",
    "wave = re.sub(r\"\\s+\", \"\", waves)\n",
    "res = wave.split(',')\n",
    "new = []\n",
    "for i in range(len(res)):\n",
    "    if res[i] != '':\n",
    "        new.append(res[i])\n",
    "res = [int(num) for num in new]\n",
    "print(len(res))\n",
    "\n",
    "# norm_res = normalize_waveform([res])\n",
    "# ecg_plot.plot_1(norm_res[0], title = 'ECG 12')\n",
    "\n"
   ]
  },
  {
   "cell_type": "code",
   "execution_count": null,
   "id": "26d7b645-c666-45df-b312-741b69cd4d28",
   "metadata": {},
   "outputs": [],
   "source": [
    "def get_raw_diagnosis(filepath):\n",
    "    tree = ET.parse(filepath)\n",
    "    root = tree.getroot()\n",
    "    diagnosis = ''\n",
    "    for inter in root.findall('Interpretation'):\n",
    "        obj = inter.find('Diagnosis')\n",
    "        if obj != None:\n",
    "            for diag in obj:\n",
    "                diagnosis += diag.text + '#'\n",
    "    return diagnosis[:-1]\n"
   ]
  },
  {
   "cell_type": "code",
   "execution_count": null,
   "id": "47cfffa0-e6f4-427e-8e7e-f6cb5c8e8689",
   "metadata": {},
   "outputs": [],
   "source": [
    "def get_waves_from_file(filepath):\n",
    "    xpath = '//RestingECGMeasurements/MedianSamples/WaveformData' #- contains the waveform data of the ecg strip for the given lead\n",
    "    try:\n",
    "        df = pd.read_xml(filepath, xpath=xpath)\n",
    "    except ValueError as value_error:\n",
    "        return []\n",
    "    waves = get_waveform(df)\n",
    "    normalized_waves = normalize_waveform(waves)\n",
    "    return normalized_waves\n",
    "\n",
    "def get_waveform(df, column='WaveformData'):\n",
    "    waves = df[column]\n",
    "    waves_processed = []\n",
    "    for wave in waves:\n",
    "        wave = re.sub(r\"\\s+\", \"\", wave)\n",
    "        res = [int(num) for num in wave.split(',')]\n",
    "        waves_processed.append(list(res))\n",
    "    return waves_processed\n",
    "\n",
    "def normalize_waveform(waves):\n",
    "    scaler = MinMaxScaler((-1, 1))\n",
    "    return [scaler.fit_transform(np.array(wave).reshape(-1, 1)) for wave in waves]\n",
    "\n",
    "def plot_waves_12(waves, columns = 4):\n",
    "    ecg_plot.plot(waves, title = 'ECG 12', columns=columns)\n",
    "    ecg_plot.show()\n",
    "\n",
    "def save_waves(waves, filepath='images/ecg12.png', columns = 4):\n",
    "    ecg_plot.plot(waves, title = 'ECG 12', columns=columns)\n",
    "    ecg_plot.save_as_png(filepath, dpi = 500)\n",
    "\n",
    "def reconstract_ECG(waves):\n",
    "    return [np.array(list(wave.ravel()) * 5).reshape(-1, 1) for wave in waves]"
   ]
  },
  {
   "cell_type": "code",
   "execution_count": null,
   "id": "de8012b2-3ea1-4b2a-a8e2-3ed2b84a507d",
   "metadata": {},
   "outputs": [],
   "source": [
    "filepath1 = '/groups/umcg-endocrinology/tmp02/projects/ukb-55495/data/metaData/v5/xml_T3/4399948_20205_3_0.xml'\n",
    "filepath2 = '/groups/umcg-endocrinology/tmp02/projects/ukb-55495/data/metaData/v5/xml_T3/3020947_20205_3_0.xml'\n",
    "\n",
    "normalized_waves = get_waves_from_file(filepath2)\n",
    "plot_waves_12(normalized_waves)"
   ]
  },
  {
   "cell_type": "code",
   "execution_count": null,
   "id": "c4991a6f-1ea3-490e-b756-a3ca2e2a2bae",
   "metadata": {},
   "outputs": [],
   "source": [
    "long_waves = reconstract_ECG(normalized_waves)\n",
    "plot_waves_12(long_waves, columns = 2)"
   ]
  },
  {
   "cell_type": "code",
   "execution_count": null,
   "id": "20c7909a-98ff-4c9d-8f17-4379d1552310",
   "metadata": {},
   "outputs": [],
   "source": [
    "print(get_raw_diagnosis(filepath2))\n",
    "print(get_raw_diagnosis(filepath1))"
   ]
  },
  {
   "cell_type": "code",
   "execution_count": null,
   "id": "5d9a6632-3a36-44ac-b277-8b3dd5b6d4bc",
   "metadata": {
    "scrolled": true
   },
   "outputs": [],
   "source": [
    "def get_unique_diagnosis(order = 0):\n",
    "    dir = '/groups/umcg-endocrinology/tmp02/projects/ukb-55495/data/metaData/v5/xml_T3/'\n",
    "    short_label = []\n",
    "    for file in os.listdir(dir):\n",
    "        file_name = os.path.join(dir, file)\n",
    "        d = get_raw_diagnosis(file_name)\n",
    "        splittt = d.split('#')\n",
    "        if len(splittt) > order:\n",
    "            short_label.append(splittt[order])\n",
    "    return set(short_label), len(short_label)"
   ]
  },
  {
   "cell_type": "code",
   "execution_count": null,
   "id": "8f5e3e34-28ab-473d-8402-6bdba6091d01",
   "metadata": {},
   "outputs": [],
   "source": [
    "diags0, len_origin = get_unique_diagnosis(0)\n",
    "print(f'Found {len(diags0)} unique values out of {len_origin}')\n",
    "print(diags0)"
   ]
  },
  {
   "cell_type": "code",
   "execution_count": null,
   "id": "1bb0101a-579c-490b-9053-0effdd8f5724",
   "metadata": {},
   "outputs": [],
   "source": [
    "def get_diagnosis_by_label(label):\n",
    "    dir = '/groups/umcg-endocrinology/tmp02/projects/ukb-55495/data/metaData/v5/xml_T3/'\n",
    "    short_label = []\n",
    "    for file in os.listdir(dir):\n",
    "        file_name = os.path.join(dir, file)\n",
    "        d = get_raw_diagnosis(file_name)\n",
    "        reversed_d = d[::-1]\n",
    "        position = reversed_d.find('#')\n",
    "        new_d = reversed_d[position+1:][::-1]\n",
    "        if label in new_d:\n",
    "            short_label.append(new_d)\n",
    "    return set(short_label), len(short_label), short_label"
   ]
  },
  {
   "cell_type": "code",
   "execution_count": null,
   "id": "174b2f73-09ba-4fac-b6d7-81b2358ec59f",
   "metadata": {
    "scrolled": true
   },
   "outputs": [],
   "source": [
    "from collections import Counter\n",
    "diags_normal, len_origin, origin = get_diagnosis_by_label('')"
   ]
  },
  {
   "cell_type": "code",
   "execution_count": null,
   "id": "1a536ca9-ed06-4621-8ada-a57800f15545",
   "metadata": {},
   "outputs": [],
   "source": [
    "for pair in Counter(origin).most_common(20):\n",
    "    print(pair[0], \"->\", pair[1])"
   ]
  },
  {
   "cell_type": "code",
   "execution_count": null,
   "id": "0be37de8-ee47-4039-a776-1e6567fce44a",
   "metadata": {},
   "outputs": [],
   "source": [
    "normal_label = 'Normal ECG'\n",
    "diags_normal, len_origin, origin = get_diagnosis_by_label(normal_label)\n",
    "print(f'Found {len(diags_normal)} unique values out of {len_origin}')\n",
    "print(diags_normal)"
   ]
  },
  {
   "cell_type": "code",
   "execution_count": null,
   "id": "b551fb1e-7e3f-4407-a63e-a853d0186790",
   "metadata": {},
   "outputs": [],
   "source": [
    "normal_label = ' normal ECG'\n",
    "diags_normal, len_origin, origin = get_diagnosis_by_label(normal_label)\n",
    "print(f'Found {len(diags_normal)} unique values out of {len_origin}')\n",
    "print(diags_normal)"
   ]
  },
  {
   "cell_type": "code",
   "execution_count": null,
   "id": "c030ec2a-c2be-4cc5-8597-b70ce2831989",
   "metadata": {},
   "outputs": [],
   "source": [
    "def get_dataset():\n",
    "    normal_label = 'Normal ECG'\n",
    "    dir = '/groups/umcg-endocrinology/tmp02/projects/ukb-55495/data/metaData/v5/xml_T3/'\n",
    "    X, data_labels = [], []\n",
    "    for file in sorted(os.listdir(dir)):\n",
    "        file_name = os.path.join(dir, file)\n",
    "\n",
    "        # get waves (X)\n",
    "        normalized_12_waves = np.array(get_waves_from_file(file_name)).ravel()\n",
    "        if len(normalized_12_waves) == 0:\n",
    "            continue\n",
    "        else:\n",
    "            X.append(normalized_12_waves)\n",
    "\n",
    "        # get labels (y)\n",
    "        diagnosis = get_raw_diagnosis(file_name)\n",
    "        reversed_diagnosis = diagnosis[::-1]\n",
    "        position = reversed_diagnosis.find('#')\n",
    "        new_diagnosis = reversed_diagnosis[position+1:][::-1]\n",
    "        if normal_label in new_diagnosis:\n",
    "            data_labels.append(0)\n",
    "        else:\n",
    "            data_labels.append(1)\n",
    "    return X, data_labels"
   ]
  },
  {
   "cell_type": "code",
   "execution_count": null,
   "id": "b9610e3e-44d3-4d19-9bb5-d4286643f544",
   "metadata": {},
   "outputs": [],
   "source": [
    "X, y = get_dataset() # 0 - normal ECG, 1 - abnormal ECG"
   ]
  },
  {
   "cell_type": "code",
   "execution_count": null,
   "id": "460d5ff4-242a-4fcf-8a40-ca0279d4477a",
   "metadata": {},
   "outputs": [],
   "source": [
    "X, y = np.array(X), np.array(y)   # 500 - number of samples per second\n",
    "print(X.shape, y.shape)          # 2439 patients, 7200 = 12 leads * 600 measurements in time (600 - number of samples of one lead)"
   ]
  },
  {
   "cell_type": "code",
   "execution_count": null,
   "id": "2db7fcec-0013-4fbb-bbce-5ba420547bb1",
   "metadata": {},
   "outputs": [],
   "source": [
    "def calculate_class_ratio(labels):\n",
    "    normals, abnormals = 0, 0\n",
    "    for label in labels:\n",
    "        if label == 0:\n",
    "            normals += 1\n",
    "        else:\n",
    "            abnormals += 1\n",
    "\n",
    "    ratio = (abnormals // normals)\n",
    "    print(\"normals:\", normals, \"abnormals:\", abnormals)\n",
    "    print(\"normals_to_abnormals_ration:\", ratio)\n",
    "    return ratio"
   ]
  },
  {
   "cell_type": "code",
   "execution_count": null,
   "id": "24350b69-28e5-4d1f-960f-8ba0ec52e39e",
   "metadata": {},
   "outputs": [],
   "source": [
    "import random\n",
    "\n",
    "def solve_imbalance_problem(X, labels):\n",
    "\n",
    "    X = [np.append(X[i], labels[i]) for i in range(len(X))]\n",
    "        \n",
    "    ratio = calculate_class_ratio(labels)\n",
    "\n",
    "    x_new = []\n",
    "    for x in X:\n",
    "        if x[-1] == 0:\n",
    "            for i in range(ratio):\n",
    "                x_new.append(x)\n",
    "\n",
    "\n",
    "    for xx in x_new:\n",
    "        X.append(xx)\n",
    "    random.shuffle(X)\n",
    "\n",
    "    updated_labels = []\n",
    "\n",
    "    # separate waves and labels again\n",
    "    for i in range(len(X)):\n",
    "        updated_labels.append(X[i][-1])\n",
    "        X[i] = X[i][:-1]\n",
    "    \n",
    "    calculate_class_ratio(updated_labels)\n",
    "\n",
    "    return X, updated_labels"
   ]
  },
  {
   "cell_type": "code",
   "execution_count": null,
   "id": "a301d698-be0d-4ce4-9e5b-b23542617f99",
   "metadata": {},
   "outputs": [],
   "source": [
    "training_proportion = int(0.75 * len(X))\n",
    "\n",
    "training_set_X = X[:training_proportion]\n",
    "testing_set_X = X[training_proportion:]\n",
    "training_set_y = y[:training_proportion]\n",
    "testing_set_y = y[training_proportion:]\n",
    "\n",
    "train_X_balanced, train_y_balanced = solve_imbalance_problem(training_set_X, training_set_y)"
   ]
  },
  {
   "cell_type": "code",
   "execution_count": null,
   "id": "0f3af506-3006-4557-8aab-0c9913aeadd4",
   "metadata": {},
   "outputs": [],
   "source": [
    "def reverse_one_hot(predictions):\n",
    "    reversed_x = []\n",
    "    for x in predictions:\n",
    "        reversed_x.append(np.argmax(np.array(x)))\n",
    "    return reversed_x"
   ]
  },
  {
   "cell_type": "code",
   "execution_count": null,
   "id": "b1e2ff1a-10b6-42d8-be69-e84569a272cf",
   "metadata": {},
   "outputs": [],
   "source": [
    "from keras.models import Sequential\n",
    "from keras.layers import Dense, Dropout, Activation, Flatten\n",
    "from keras.layers import Conv2D, MaxPooling2D\n",
    "import tensorflow as tf\n",
    "from sklearn.metrics import classification_report, confusion_matrix, accuracy_score\n",
    "\n",
    "image_shape = (24, 300)\n",
    "# image_shape = (12, 600)\n",
    "# image_shape = (1, 600*12) # does not work\n",
    "\n",
    "def learn_the_model(training_set_X, training_set_y, testing_set_X, testing_set_y):\n",
    "\n",
    "    test_labels = tf.keras.utils.to_categorical(testing_set_y, 2)\n",
    "    train_labels = tf.keras.utils.to_categorical(training_set_y, 2)\n",
    "    \n",
    "    train_images = training_set_X.reshape(training_set_X.shape[0], image_shape[0], image_shape[1], 1)\n",
    "    test_images = testing_set_X.reshape(testing_set_X.shape[0], image_shape[0], image_shape[1], 1)\n",
    "    \n",
    "    model = Sequential()\n",
    "    model.add(Conv2D(32, (3, 3), activation='relu', input_shape=(image_shape[0], image_shape[1], 1)))\n",
    "    model.add(Conv2D(64, (3, 3), activation='relu'))\n",
    "    model.add(MaxPooling2D(pool_size=(2, 2)))\n",
    "    model.add(Dropout(0.25))\n",
    "    model.add(Flatten())\n",
    "    model.add(Dense(128, activation='relu'))\n",
    "    model.add(Dropout(0.5))\n",
    "    model.add(Dense(2, activation='softmax'))\n",
    "    model.compile(loss=tf.keras.losses.categorical_crossentropy, optimizer=tf.keras.optimizers.Adadelta(), metrics=['accuracy', 'mae', 'mse'])\n",
    "    \n",
    "    train_data_size = train_images.shape[0]\n",
    "    test_data_size = test_images.shape[0]\n",
    "    \n",
    "    print(\"model will be trained with {} and be tested with {} sample\".format(train_data_size, test_data_size))\n",
    "    print(\"Fitting model to the training data...\")\n",
    "    model.fit(train_images, train_labels, batch_size=150, epochs=5, verbose=1, validation_data=None)\n",
    "    \n",
    "    predictions = model.predict(test_images, batch_size=150, verbose=1)\n",
    "    print(model.evaluate(test_images, test_labels, batch_size=150, verbose=1))\n",
    "    \n",
    "    # print(\"Train conf matrix: \", confusion_matrix(np.array(reverse_one_hot(train_labels)),\n",
    "    #                                                   np.array(reverse_one_hot(\n",
    "    #                                                       model.predict(train_images, batch_size=150,\n",
    "    #                                                                     verbose=1)))))\n",
    "    # print(\"Test conf matrix: \", confusion_matrix(np.array(reverse_one_hot(test_labels)),\n",
    "    #                                                  np.array(reverse_one_hot(predictions))))\n",
    "    \n",
    "    print(\"Evaluation accuracy score = \", accuracy_score(predictions, testing_set_y))\n",
    "    print(\"Confusion matrix = \", confusion_matrix(testing_set_y, predictions))"
   ]
  },
  {
   "cell_type": "code",
   "execution_count": null,
   "id": "9e878f41-3bee-4b88-a835-c9a47f77c08b",
   "metadata": {},
   "outputs": [],
   "source": [
    "learn_the_model(training_set_X, training_set_y, testing_set_X, testing_set_y)"
   ]
  },
  {
   "cell_type": "code",
   "execution_count": null,
   "id": "77a6a5a8-005a-41a2-bd77-a4bc46763623",
   "metadata": {},
   "outputs": [],
   "source": [
    "xpath = '//Sagittal' \n",
    "df = pd.read_xml(filepath, xpath=xpath)"
   ]
  },
  {
   "cell_type": "code",
   "execution_count": null,
   "id": "218c1e4b-bda0-4d2b-8f63-ddcc317e165b",
   "metadata": {},
   "outputs": [],
   "source": [
    "df"
   ]
  },
  {
   "cell_type": "code",
   "execution_count": null,
   "id": "2f0c3589-cbaf-4420-bf3e-68351ff41eae",
   "metadata": {},
   "outputs": [],
   "source": [
    "xpath = '//FullDisclosureData' \n",
    "df = pd.read_xml(filepath, xpath=xpath)"
   ]
  },
  {
   "cell_type": "code",
   "execution_count": null,
   "id": "031a433c-2831-48ff-bf13-518f587bf5eb",
   "metadata": {},
   "outputs": [],
   "source": [
    "df"
   ]
  },
  {
   "cell_type": "code",
   "execution_count": null,
   "id": "685f287c-a00f-4a8b-aa3a-2ee7d998d38c",
   "metadata": {},
   "outputs": [],
   "source": [
    "# split '/groups/umcg-endocrinology/tmp02/projects/ukb-55495/data/metaData/v5/ukb674725_headerOfsetFixed_4ColsRemoved_humanreadable.txt' files into smaller files to explore the content\n",
    "\n",
    "filepath = '/home/umcg-asorova/project/myDataSplit50/xaa'\n",
    "df = pd.read_csv(filepath, sep=\"\\t\", engine='python',quotechar=' ')\n",
    "\n",
    "# count missing values and remove column with more than 0.2% of missing values : from 31110 columns result in 309\n",
    "# percentage_missing = df.isnull().sum().sort_values(ascending=False)/len(df)*100\n",
    "# for column in percentage_missing.keys().tolist():\n",
    "#     if percentage_missing[column] > 0.2:\n",
    "#         df.drop(column, inplace = True, axis=1)\n",
    "# df.head()"
   ]
  },
  {
   "cell_type": "code",
   "execution_count": null,
   "id": "dacd555b-b916-45aa-aa0d-1b9caa1e5d6b",
   "metadata": {},
   "outputs": [],
   "source": [
    "ids = df['eid']\n",
    "print"
   ]
  },
  {
   "cell_type": "code",
   "execution_count": null,
   "id": "7a01e68b-1cd6-4876-8419-29594b693d71",
   "metadata": {
    "scrolled": true
   },
   "outputs": [],
   "source": [
    "print(list(df.columns))"
   ]
  },
  {
   "cell_type": "code",
   "execution_count": null,
   "id": "6bfc79d9-6d51-4049-a01a-335d4abc975a",
   "metadata": {},
   "outputs": [],
   "source": [
    "df['Vascular/heart problems diagnosed by doctor_0.0'].head()"
   ]
  },
  {
   "cell_type": "code",
   "execution_count": null,
   "id": "a236b653-efb4-4273-84c6-76e357d81133",
   "metadata": {},
   "outputs": [],
   "source": [
    "from imblearn.over_sampling import SMOTE\n",
    "from collections import Counter\n",
    "import warnings\n",
    "warnings.filterwarnings(action='ignore', category=FutureWarning)\n",
    "\n",
    "# oversampling technique\n",
    "sm = SMOTE(random_state=40, n_jobs=8, sampling_strategy='not majority')\n",
    "X_train_resampled, y_train_resampled = sm.fit_resample(training_set_X, training_set_y)\n",
    "\n",
    "print('Original dataset shape:', Counter(training_set_y))\n",
    "print('Resampled dataset shape:', Counter(y_train_resampled))"
   ]
  },
  {
   "cell_type": "code",
   "execution_count": null,
   "id": "7bf22c7b-1e26-4bc8-a50b-5873168747bd",
   "metadata": {},
   "outputs": [],
   "source": [
    "learn_the_model(X_train_resampled, y_train_resampled, testing_set_X, testing_set_y)"
   ]
  },
  {
   "cell_type": "code",
   "execution_count": null,
   "id": "bce4072d-acb4-4613-822c-6a61271fc7ec",
   "metadata": {},
   "outputs": [],
   "source": [
    "from imblearn.over_sampling import ADASYN\n",
    "\n",
    "# oversampling technique\n",
    "sm = ADASYN(random_state=40, n_jobs=8, sampling_strategy='not majority')\n",
    "X_train_resampled_ADASYN, y_train_resampled_ADASYN = sm.fit_resample(training_set_X, training_set_y)\n",
    "\n",
    "print('Original dataset shape:', Counter(training_set_y))\n",
    "print('Resampled dataset shape:', Counter(y_train_resampled_ADASYN))"
   ]
  },
  {
   "cell_type": "code",
   "execution_count": null,
   "id": "8d7e293b-912c-4b5d-8740-db7107382823",
   "metadata": {},
   "outputs": [],
   "source": [
    "learn_the_model(X_train_resampled_ADASYN, y_train_resampled_ADASYN, testing_set_X, testing_set_y)"
   ]
  },
  {
   "cell_type": "code",
   "execution_count": null,
   "id": "5a36dd7e-4277-4e8b-9ee7-549c1647352c",
   "metadata": {},
   "outputs": [],
   "source": [
    "from sklearn.cluster import MiniBatchKMeans\n",
    "from imblearn.under_sampling import ClusterCentroids\n",
    "\n",
    "# undersampling technique\n",
    "cc = ClusterCentroids(\n",
    "    estimator=MiniBatchKMeans(n_init=1, random_state=0), random_state=42, sampling_strategy='not minority'\n",
    ")\n",
    "X_train_resampled_CC, y_train_resampled_CC = cc.fit_resample(training_set_X, training_set_y)\n",
    "print('Original dataset shape:', Counter(training_set_y))\n",
    "print('Resampled dataset shape:', Counter(y_train_resampled_CC))"
   ]
  },
  {
   "cell_type": "code",
   "execution_count": null,
   "id": "6a629273-98dd-4416-89f0-1fa403316ecf",
   "metadata": {},
   "outputs": [],
   "source": [
    "learn_the_model(X_train_resampled_CC, y_train_resampled_CC, testing_set_X, testing_set_y)"
   ]
  }
 ],
 "metadata": {
  "kernelspec": {
   "display_name": "Python 3 (ipykernel)",
   "language": "python",
   "name": "python3"
  },
  "language_info": {
   "codemirror_mode": {
    "name": "ipython",
    "version": 3
   },
   "file_extension": ".py",
   "mimetype": "text/x-python",
   "name": "python",
   "nbconvert_exporter": "python",
   "pygments_lexer": "ipython3",
   "version": "3.11.5"
  }
 },
 "nbformat": 4,
 "nbformat_minor": 5
}
